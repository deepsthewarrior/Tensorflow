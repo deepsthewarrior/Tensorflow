{
  "nbformat": 4,
  "nbformat_minor": 0,
  "metadata": {
    "colab": {
      "name": "Insurance_regression.ipynb",
      "private_outputs": true,
      "provenance": [],
      "authorship_tag": "ABX9TyMbU6DkR/GPpWNataiyrNyQ",
      "include_colab_link": true
    },
    "kernelspec": {
      "name": "python3",
      "display_name": "Python 3"
    },
    "language_info": {
      "name": "python"
    }
  },
  "cells": [
    {
      "cell_type": "markdown",
      "metadata": {
        "id": "view-in-github",
        "colab_type": "text"
      },
      "source": [
        "<a href=\"https://colab.research.google.com/github/deepsthewarrior/Tensorflow/blob/main/Insurance_regression.ipynb\" target=\"_parent\"><img src=\"https://colab.research.google.com/assets/colab-badge.svg\" alt=\"Open In Colab\"/></a>"
      ]
    },
    {
      "cell_type": "code",
      "metadata": {
        "id": "qoTHJf7gvdQ6"
      },
      "source": [
        "# import the libraries\n",
        "import tensorflow as tf\n",
        "import pandas as pd\n",
        "import matplotlib.pyplot as plt\n",
        "\n",
        "\n"
      ],
      "execution_count": null,
      "outputs": []
    },
    {
      "cell_type": "code",
      "metadata": {
        "id": "2IMBoKEQvgAn"
      },
      "source": [
        "#Read the insurance dataset\n",
        "insurance=pd.read_csv(\"https://raw.githubusercontent.com/stedy/Machine-Learning-with-R-datasets/master/insurance.csv\")\n",
        "insurance"
      ],
      "execution_count": null,
      "outputs": []
    },
    {
      "cell_type": "code",
      "metadata": {
        "id": "YvIptkExvrL1"
      },
      "source": [
        "insurance[\"sex\"],insurance[\"smoker\"],insurance[\"age\"]"
      ],
      "execution_count": null,
      "outputs": []
    },
    {
      "cell_type": "code",
      "metadata": {
        "id": "Ks3PUx3QvuBF"
      },
      "source": [
        "#One hot encoding for object datatypes\n",
        "insurance_onehot = pd.get_dummies(insurance)"
      ],
      "execution_count": null,
      "outputs": []
    },
    {
      "cell_type": "code",
      "metadata": {
        "id": "zt2wXkYX0GaZ"
      },
      "source": [
        "#create x and y values\n",
        "x = insurance_onehot.drop(\"charges\",axis=1)\n",
        "y = insurance_onehot[\"charges\"]"
      ],
      "execution_count": null,
      "outputs": []
    },
    {
      "cell_type": "code",
      "metadata": {
        "id": "3a_3Nmul11ry"
      },
      "source": [
        "y.head()"
      ],
      "execution_count": null,
      "outputs": []
    },
    {
      "cell_type": "code",
      "metadata": {
        "id": "JEX8VY2wWLsi"
      },
      "source": [
        "#create training and test datasets\n",
        "from sklearn.model_selection import train_test_split\n",
        "x_train, x_test, y_train,y_test = train_test_split(x,y,test_size=0.2,random_state=42)\n",
        "len(x),len(x_train),len(x_test)"
      ],
      "execution_count": null,
      "outputs": []
    },
    {
      "cell_type": "code",
      "metadata": {
        "id": "tDBTP9sLWfxj"
      },
      "source": [
        "x_train"
      ],
      "execution_count": null,
      "outputs": []
    },
    {
      "cell_type": "code",
      "metadata": {
        "id": "3mRU08uoXX9k"
      },
      "source": [
        "# Build a neural network\n",
        "tf.random.set_seed=42\n",
        "\n",
        "#create a model\n",
        "\n",
        "insurance_model=tf.keras.Sequential([tf.keras.layers.Dense(10),\n",
        "                                     tf.keras.layers.Dense(1)])\n",
        "\n",
        "insurance_model.compile(loss=tf.keras.losses.mae,\n",
        "                        optimizer=tf.keras.optimizers.SGD(),\n",
        "                        metrics=[\"mae\"])"
      ],
      "execution_count": null,
      "outputs": []
    },
    {
      "cell_type": "code",
      "metadata": {
        "id": "BjjAXoXyaiG2"
      },
      "source": [
        "history = insurance_model.fit(x_train,y_train,epochs=100)"
      ],
      "execution_count": null,
      "outputs": []
    },
    {
      "cell_type": "code",
      "metadata": {
        "id": "d2673NFRiCLu"
      },
      "source": [
        "insurance_model.evaluate(x_test,y_test)"
      ],
      "execution_count": null,
      "outputs": []
    },
    {
      "cell_type": "code",
      "metadata": {
        "id": "WDFvYlHAmnRq"
      },
      "source": [
        "y_train.median(),y_train.mean()"
      ],
      "execution_count": null,
      "outputs": []
    },
    {
      "cell_type": "markdown",
      "metadata": {
        "id": "CLDCZtXlwUHB"
      },
      "source": [
        "The insurance.model has got significant loss. Pretty much half of the mean."
      ]
    },
    {
      "cell_type": "markdown",
      "metadata": {
        "id": "Wv2gx7i-m6ZU"
      },
      "source": [
        "###Improve the model\n",
        "\n",
        "\n",
        "\n",
        "\n",
        "1.   increase the hidden layer\n",
        "2.   optimizer.Adam\n",
        "3.epochs =200\n",
        "\n",
        "\n",
        "\n"
      ]
    },
    {
      "cell_type": "code",
      "metadata": {
        "id": "bqSHCPv-nBCs"
      },
      "source": [
        "\n",
        "#1.create a model\n",
        "insurance_model_2=tf.keras.Sequential([\n",
        "                                       tf.keras.layers.Dense(100),\n",
        "                                       tf.keras.layers.Dense(10),\n",
        "                                       tf.keras.layers.Dense(1)\n",
        "])\n",
        "\n",
        "#2.compile the model\n",
        "\n",
        "insurance_model_2.compile(loss=tf.keras.losses.mae,\n",
        "                        optimizer=tf.keras.optimizers.Adam(),\n",
        "                        metrics=[\"mae\"])\n",
        "\n",
        "#3.Fit the model\n",
        "insurance_model_2.fit(x_train,y_train,epochs=200,verbose=2)"
      ],
      "execution_count": null,
      "outputs": []
    },
    {
      "cell_type": "code",
      "metadata": {
        "id": "bXJ8rYjPqkw-"
      },
      "source": [
        "#compare the model and model2\n",
        "insurance_model.evaluate(x_test,y_test)\n",
        "insurance_model_2.evaluate(x_test,y_test)"
      ],
      "execution_count": null,
      "outputs": []
    },
    {
      "cell_type": "code",
      "metadata": {
        "id": "fnYSZdXZq2E7"
      },
      "source": [
        "#plot loss curve\n",
        "\n",
        "pd.DataFrame(history.history).plot()\n",
        "plt.xlabel(\"epochs\")\n",
        "plt.ylabel(\"loss\")\n"
      ],
      "execution_count": null,
      "outputs": []
    },
    {
      "cell_type": "markdown",
      "metadata": {
        "id": "SlSqoUUyv4Ry"
      },
      "source": [
        "\n",
        "I am trying to improve the model further by introducing \n",
        "\n",
        "1.   extra hidden layers\n",
        "2.   RMSprop optimizer\n",
        "3.   epochs=250(may overfit)\n",
        "\n",
        "\n",
        "```\n",
        "\n"
      ]
    },
    {
      "cell_type": "code",
      "metadata": {
        "id": "Q0mg65rPrF9c"
      },
      "source": [
        "#1.create a model\n",
        "insurance_model_3=tf.keras.Sequential([tf.keras.layers.Dense(150),\n",
        "                                       tf.keras.layers.Dense(100),\n",
        "                                       tf.keras.layers.Dense(50),\n",
        "                                       tf.keras.layers.Dense(10),\n",
        "                                       tf.keras.layers.Dense(1)\n",
        "])\n",
        "\n",
        "#2.compile the model\n",
        "\n",
        "insurance_model_3.compile(loss=tf.keras.losses.mae,\n",
        "                        optimizer=tf.keras.optimizers.RMSprop(),\n",
        "                        metrics=[\"mae\"])\n",
        "\n",
        "#3.Fit the model\n",
        "insurance_model_3.fit(x_train,y_train,epochs=250,verbose=2)"
      ],
      "execution_count": null,
      "outputs": []
    },
    {
      "cell_type": "code",
      "metadata": {
        "id": "RlrW-_iRtaSz"
      },
      "source": [
        "insurance_model_3.evaluate(x_test,y_test)"
      ],
      "execution_count": null,
      "outputs": []
    },
    {
      "cell_type": "code",
      "metadata": {
        "id": "0qPvo6T2t7O3"
      },
      "source": [
        "pd.DataFrame(history.history).plot()"
      ],
      "execution_count": null,
      "outputs": []
    },
    {
      "cell_type": "code",
      "metadata": {
        "id": "aLRzEnMQ1Ra9"
      },
      "source": [
        "  "
      ],
      "execution_count": null,
      "outputs": []
    },
    {
      "cell_type": "markdown",
      "metadata": {
        "id": "m2vhRLdK1dsf"
      },
      "source": [
        "# Preprocessing Data \n",
        "Normalization & Standardization"
      ]
    },
    {
      "cell_type": "code",
      "metadata": {
        "id": "Fvv9zHNa1dAS"
      },
      "source": [
        "insurance[\"children\"].value_counts()\n"
      ],
      "execution_count": null,
      "outputs": []
    },
    {
      "cell_type": "code",
      "metadata": {
        "id": "DOKvjDlMY0VV"
      },
      "source": [
        "insurance[\"age\"].plot(kind=\"hist\")"
      ],
      "execution_count": null,
      "outputs": []
    },
    {
      "cell_type": "code",
      "metadata": {
        "id": "-fL5IgOQZIvV"
      },
      "source": [
        "insurance[\"bmi\"].plot(kind=\"hist\")"
      ],
      "execution_count": null,
      "outputs": []
    },
    {
      "cell_type": "code",
      "metadata": {
        "id": "EQxov0Y0cdcE"
      },
      "source": [
        ""
      ],
      "execution_count": null,
      "outputs": []
    }
  ]
}
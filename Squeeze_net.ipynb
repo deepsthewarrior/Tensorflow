{
  "nbformat": 4,
  "nbformat_minor": 0,
  "metadata": {
    "colab": {
      "name": "Squeeze_net.ipynb",
      "private_outputs": true,
      "provenance": [],
      "authorship_tag": "ABX9TyOsDnSiYStgXPHlfz+to45Q",
      "include_colab_link": true
    },
    "kernelspec": {
      "name": "python3",
      "display_name": "Python 3"
    },
    "language_info": {
      "name": "python"
    }
  },
  "cells": [
    {
      "cell_type": "markdown",
      "metadata": {
        "id": "view-in-github",
        "colab_type": "text"
      },
      "source": [
        "<a href=\"https://colab.research.google.com/github/deepsthewarrior/Tensorflow/blob/main/Squeeze_net.ipynb\" target=\"_parent\"><img src=\"https://colab.research.google.com/assets/colab-badge.svg\" alt=\"Open In Colab\"/></a>"
      ]
    },
    {
      "cell_type": "code",
      "metadata": {
        "id": "aM8szu8DNNZN"
      },
      "source": [
        "from tensorflow.keras.layers import Input, Conv2D, Concatenate,\\\n",
        "MaxPool2D,GlobalAvgPool2D,Activation"
      ],
      "execution_count": null,
      "outputs": []
    },
    {
      "cell_type": "code",
      "metadata": {
        "id": "YToa31kqNca5"
      },
      "source": [
        "def fire_block(x,squeeze_filters,expand_filters):\n",
        "  squeezed = Conv2D(filters=squeeze_filters,kernel_size=1,activation='relu')(x)\n",
        "  expanded_1=Conv2D(filters=expand_filters,kernel_size=1,activation='relu')(squeezed)\n",
        "  expanded_3=Conv2D(filters=expand_filters,kernel_size=3,padding='same',activation='relu')(squeezed)\n",
        "  expanded=Concatenate()([expanded_1,expanded_3])\n",
        "\n",
        "  return expanded"
      ],
      "execution_count": null,
      "outputs": []
    },
    {
      "cell_type": "code",
      "metadata": {
        "id": "4qQbYAlmOaLv"
      },
      "source": [
        "input = Input(shape=[224,224,3])\n",
        "x=Conv2D(96,7,strides=2,padding='same')(input)\n",
        "x=MaxPool2D(3,strides=2,padding='same')(x)"
      ],
      "execution_count": null,
      "outputs": []
    },
    {
      "cell_type": "code",
      "metadata": {
        "id": "fAQtDT2SPDWi"
      },
      "source": [
        "x=fire_block(x,squeeze_filters=16,expand_filters=64)\n",
        "x=fire_block(x,squeeze_filters=16,expand_filters=64)\n",
        "x=fire_block(x,squeeze_filters=32,expand_filters=128)\n",
        "x=MaxPool2D(pool_size=3,strides=2,padding='same')(x)\n",
        "\n",
        "x=fire_block(x,squeeze_filters=32,expand_filters=128)\n",
        "x=fire_block(x,squeeze_filters=48,expand_filters=192)\n",
        "x=fire_block(x,squeeze_filters=48,expand_filters=192)\n",
        "x=fire_block(x,squeeze_filters=64,expand_filters=256)\n",
        "x=MaxPool2D(pool_size=3,strides=2,padding='same')(x)\n",
        "\n",
        "x=fire_block(x,squeeze_filters=64,expand_filters=256)\n",
        "\n"
      ],
      "execution_count": null,
      "outputs": []
    },
    {
      "cell_type": "code",
      "metadata": {
        "id": "NsEpaSAvQm6a"
      },
      "source": [
        "x=Conv2D(1000,1)(x)\n",
        "x=GlobalAvgPool2D()(x)\n",
        "output=Activation('softmax')(x)\n",
        "\n",
        "from tensorflow.keras import Model\n",
        "model=Model(input,output)"
      ],
      "execution_count": null,
      "outputs": []
    },
    {
      "cell_type": "code",
      "metadata": {
        "id": "XhLGqAAERM4h"
      },
      "source": [
        "from tensorflow.keras.utils import plot_model\n",
        "plot_model(model,show_shapes=True)"
      ],
      "execution_count": null,
      "outputs": []
    },
    {
      "cell_type": "code",
      "metadata": {
        "id": "HFcVOXYDRbF5"
      },
      "source": [
        "import numpy as np\n",
        "import tensorflow.keras.backend as K\n",
        "int(np.sum([K.count_params(p) for p in model.trainable_weights]))"
      ],
      "execution_count": null,
      "outputs": []
    },
    {
      "cell_type": "code",
      "metadata": {
        "id": "4A1S0sZhSkrk"
      },
      "source": [
        ""
      ],
      "execution_count": null,
      "outputs": []
    }
  ]
}